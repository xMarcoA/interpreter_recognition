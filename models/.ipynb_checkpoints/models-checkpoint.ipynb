{
 "cells": [
  {
   "cell_type": "code",
   "execution_count": 1,
   "metadata": {},
   "outputs": [],
   "source": [
    "import pandas as pd\n",
    "import pickle\n",
    "\n",
    "from sklearn.linear_model import LogisticRegression\n",
    "from sklearn.ensemble import RandomForestClassifier\n",
    "from sklearn.feature_extraction.text import TfidfVectorizer\n",
    "\n",
    "from sklearn.model_selection import GridSearchCV\n",
    "from sklearn.model_selection import train_test_split\n",
    "\n",
    "from sklearn.compose import ColumnTransformer\n",
    "from sklearn.pipeline import make_pipeline\n",
    "\n",
    "from sklearn.metrics import accuracy_score\n",
    "from joblib import dump"
   ]
  },
  {
   "cell_type": "code",
   "execution_count": 2,
   "metadata": {},
   "outputs": [],
   "source": [
    "def grid_search(model,param_grid):\n",
    "    grid_search = GridSearchCV(\n",
    "        estimator=model, \n",
    "        param_grid=param_grid, \n",
    "        cv=5, \n",
    "        return_train_score=True, \n",
    "        scoring='accuracy',         # take balanced accuracy score\n",
    "        n_jobs= -1)\n",
    "    grid_search.fit(X_train, y_train)\n",
    "    return grid_search"
   ]
  },
  {
   "cell_type": "code",
   "execution_count": 3,
   "metadata": {},
   "outputs": [],
   "source": [
    "def pickle_maker(model,name):\n",
    "     with open(name+'.pickle', 'wb') as file:\n",
    "        pickle.dump(model, file)"
   ]
  },
  {
   "cell_type": "code",
   "execution_count": 4,
   "metadata": {},
   "outputs": [],
   "source": [
    "# read in Datasets and drop na \n",
    "\n",
    "lyrics_raw = pd.read_csv('./lyrics_300.csv')\n",
    "lyrics = lyrics_raw.dropna()"
   ]
  },
  {
   "cell_type": "code",
   "execution_count": 5,
   "metadata": {},
   "outputs": [],
   "source": [
    "# initialize x, y and split them\n",
    "\n",
    "y = lyrics['Artist']\n",
    "X = lyrics['Lyric']\n",
    "\n",
    "X_train, X_test, y_train, y_test = train_test_split(X, y)"
   ]
  },
  {
   "cell_type": "markdown",
   "metadata": {},
   "source": [
    "# Random Forest"
   ]
  },
  {
   "cell_type": "code",
   "execution_count": 6,
   "metadata": {
    "scrolled": true
   },
   "outputs": [
    {
     "data": {
      "text/plain": [
       "Pipeline(steps=[('tfidfvectorizer',\n",
       "                 TfidfVectorizer(max_df=0.9, min_df=10, ngram_range=(1, 2),\n",
       "                                 stop_words='english')),\n",
       "                ('randomforestclassifier',\n",
       "                 RandomForestClassifier(class_weight='balanced', max_depth=6,\n",
       "                                        n_estimators=300))])"
      ]
     },
     "execution_count": 6,
     "metadata": {},
     "output_type": "execute_result"
    }
   ],
   "source": [
    "# create model\n",
    "\n",
    "model_ran = make_pipeline(\n",
    "    TfidfVectorizer(\n",
    "        lowercase=True, \n",
    "        stop_words='english',\n",
    "        min_df=10, max_df=0.90, ngram_range=(1, 2)), \n",
    "    RandomForestClassifier(max_depth=6, n_estimators=300, bootstrap=True, class_weight='balanced')\n",
    ")\n",
    "model_ran.fit(X_train, y_train)"
   ]
  },
  {
   "cell_type": "code",
   "execution_count": 7,
   "metadata": {},
   "outputs": [],
   "source": [
    "#model_ran.get_params()"
   ]
  },
  {
   "cell_type": "code",
   "execution_count": 8,
   "metadata": {},
   "outputs": [
    {
     "name": "stdout",
     "output_type": "stream",
     "text": [
      "{'randomforestclassifier__class_weight': None, 'randomforestclassifier__max_depth': 7}\n"
     ]
    }
   ],
   "source": [
    "# grid search\n",
    "\n",
    "param_grid = {'randomforestclassifier__max_depth': [5,6,7],\n",
    "              'randomforestclassifier__class_weight':[None,'balanced']}\n",
    "\n",
    "random_grid = grid_search(model_ran, param_grid)\n",
    "print(random_grid.best_params_)   "
   ]
  },
  {
   "cell_type": "code",
   "execution_count": 9,
   "metadata": {},
   "outputs": [
    {
     "data": {
      "text/plain": [
       "dict_keys(['mean_fit_time', 'std_fit_time', 'mean_score_time', 'std_score_time', 'param_randomforestclassifier__class_weight', 'param_randomforestclassifier__max_depth', 'params', 'split0_test_score', 'split1_test_score', 'split2_test_score', 'split3_test_score', 'split4_test_score', 'mean_test_score', 'std_test_score', 'rank_test_score', 'split0_train_score', 'split1_train_score', 'split2_train_score', 'split3_train_score', 'split4_train_score', 'mean_train_score', 'std_train_score'])"
      ]
     },
     "execution_count": 9,
     "metadata": {},
     "output_type": "execute_result"
    }
   ],
   "source": [
    "random_grid.cv_results_.keys()"
   ]
  },
  {
   "cell_type": "code",
   "execution_count": 10,
   "metadata": {},
   "outputs": [
    {
     "data": {
      "text/html": [
       "<div>\n",
       "<style scoped>\n",
       "    .dataframe tbody tr th:only-of-type {\n",
       "        vertical-align: middle;\n",
       "    }\n",
       "\n",
       "    .dataframe tbody tr th {\n",
       "        vertical-align: top;\n",
       "    }\n",
       "\n",
       "    .dataframe thead th {\n",
       "        text-align: right;\n",
       "    }\n",
       "</style>\n",
       "<table border=\"1\" class=\"dataframe\">\n",
       "  <thead>\n",
       "    <tr style=\"text-align: right;\">\n",
       "      <th></th>\n",
       "      <th>mean_fit_time</th>\n",
       "      <th>param_randomforestclassifier__max_depth</th>\n",
       "      <th>mean_train_score</th>\n",
       "      <th>mean_test_score</th>\n",
       "    </tr>\n",
       "  </thead>\n",
       "  <tbody>\n",
       "    <tr>\n",
       "      <th>0</th>\n",
       "      <td>2.46626</td>\n",
       "      <td>5</td>\n",
       "      <td>0.906077</td>\n",
       "      <td>0.85116</td>\n",
       "    </tr>\n",
       "    <tr>\n",
       "      <th>1</th>\n",
       "      <td>2.66691</td>\n",
       "      <td>6</td>\n",
       "      <td>0.919175</td>\n",
       "      <td>0.871787</td>\n",
       "    </tr>\n",
       "    <tr>\n",
       "      <th>2</th>\n",
       "      <td>2.9416</td>\n",
       "      <td>7</td>\n",
       "      <td>0.928651</td>\n",
       "      <td>0.881829</td>\n",
       "    </tr>\n",
       "    <tr>\n",
       "      <th>3</th>\n",
       "      <td>3.18592</td>\n",
       "      <td>5</td>\n",
       "      <td>0.892976</td>\n",
       "      <td>0.841131</td>\n",
       "    </tr>\n",
       "    <tr>\n",
       "      <th>4</th>\n",
       "      <td>3.49494</td>\n",
       "      <td>6</td>\n",
       "      <td>0.907051</td>\n",
       "      <td>0.854518</td>\n",
       "    </tr>\n",
       "    <tr>\n",
       "      <th>5</th>\n",
       "      <td>3.05191</td>\n",
       "      <td>7</td>\n",
       "      <td>0.916527</td>\n",
       "      <td>0.866213</td>\n",
       "    </tr>\n",
       "  </tbody>\n",
       "</table>\n",
       "</div>"
      ],
      "text/plain": [
       "  mean_fit_time param_randomforestclassifier__max_depth mean_train_score  \\\n",
       "0       2.46626                                       5         0.906077   \n",
       "1       2.66691                                       6         0.919175   \n",
       "2        2.9416                                       7         0.928651   \n",
       "3       3.18592                                       5         0.892976   \n",
       "4       3.49494                                       6         0.907051   \n",
       "5       3.05191                                       7         0.916527   \n",
       "\n",
       "  mean_test_score  \n",
       "0         0.85116  \n",
       "1        0.871787  \n",
       "2        0.881829  \n",
       "3        0.841131  \n",
       "4        0.854518  \n",
       "5        0.866213  "
      ]
     },
     "execution_count": 10,
     "metadata": {},
     "output_type": "execute_result"
    }
   ],
   "source": [
    "results = pd.DataFrame(random_grid.cv_results_)\n",
    "results[[ 'mean_fit_time',\n",
    "          'param_randomforestclassifier__max_depth',\n",
    "          'mean_train_score', \n",
    "          'mean_test_score']].abs()"
   ]
  },
  {
   "cell_type": "markdown",
   "metadata": {},
   "source": [
    "# Logistic Regression"
   ]
  },
  {
   "cell_type": "code",
   "execution_count": 11,
   "metadata": {},
   "outputs": [
    {
     "data": {
      "text/plain": [
       "Pipeline(steps=[('tfidfvectorizer',\n",
       "                 TfidfVectorizer(max_df=0.9, min_df=10, ngram_range=(1, 2),\n",
       "                                 stop_words='english')),\n",
       "                ('logisticregression',\n",
       "                 LogisticRegression(class_weight='balanced', max_iter=10000))])"
      ]
     },
     "execution_count": 11,
     "metadata": {},
     "output_type": "execute_result"
    }
   ],
   "source": [
    "# create and fit the model\n",
    "\n",
    "model_log = make_pipeline(\n",
    "    TfidfVectorizer(\n",
    "        lowercase=True, \n",
    "        stop_words='english',\n",
    "        min_df=10, max_df=0.90, ngram_range=(1, 2)), \n",
    "    LogisticRegression(class_weight='balanced', max_iter=10000)\n",
    ")\n",
    "model_log.fit(X_train, y_train)"
   ]
  },
  {
   "cell_type": "code",
   "execution_count": 12,
   "metadata": {},
   "outputs": [],
   "source": [
    "# model_log.get_params()"
   ]
  },
  {
   "cell_type": "code",
   "execution_count": 13,
   "metadata": {},
   "outputs": [
    {
     "name": "stdout",
     "output_type": "stream",
     "text": [
      "{'logisticregression__C': 10, 'logisticregression__max_iter': 500}\n"
     ]
    }
   ],
   "source": [
    "param_grid = {'logisticregression__max_iter': [500,1000],\n",
    "               'logisticregression__C': [0.01, 0.1, 1, 10]}\n",
    "logistic_grid = grid_search(model_log, param_grid)\n",
    "print(logistic_grid.best_params_) "
   ]
  },
  {
   "cell_type": "code",
   "execution_count": 14,
   "metadata": {},
   "outputs": [
    {
     "data": {
      "text/plain": [
       "dict_keys(['mean_fit_time', 'std_fit_time', 'mean_score_time', 'std_score_time', 'param_logisticregression__C', 'param_logisticregression__max_iter', 'params', 'split0_test_score', 'split1_test_score', 'split2_test_score', 'split3_test_score', 'split4_test_score', 'mean_test_score', 'std_test_score', 'rank_test_score', 'split0_train_score', 'split1_train_score', 'split2_train_score', 'split3_train_score', 'split4_train_score', 'mean_train_score', 'std_train_score'])"
      ]
     },
     "execution_count": 14,
     "metadata": {},
     "output_type": "execute_result"
    }
   ],
   "source": [
    "logistic_grid.cv_results_.keys()"
   ]
  },
  {
   "cell_type": "code",
   "execution_count": 15,
   "metadata": {},
   "outputs": [
    {
     "data": {
      "text/html": [
       "<div>\n",
       "<style scoped>\n",
       "    .dataframe tbody tr th:only-of-type {\n",
       "        vertical-align: middle;\n",
       "    }\n",
       "\n",
       "    .dataframe tbody tr th {\n",
       "        vertical-align: top;\n",
       "    }\n",
       "\n",
       "    .dataframe thead th {\n",
       "        text-align: right;\n",
       "    }\n",
       "</style>\n",
       "<table border=\"1\" class=\"dataframe\">\n",
       "  <thead>\n",
       "    <tr style=\"text-align: right;\">\n",
       "      <th></th>\n",
       "      <th>mean_fit_time</th>\n",
       "      <th>param_logisticregression__C</th>\n",
       "      <th>param_logisticregression__max_iter</th>\n",
       "      <th>mean_train_score</th>\n",
       "      <th>mean_test_score</th>\n",
       "    </tr>\n",
       "  </thead>\n",
       "  <tbody>\n",
       "    <tr>\n",
       "      <th>0</th>\n",
       "      <td>1.6563</td>\n",
       "      <td>0.01</td>\n",
       "      <td>500</td>\n",
       "      <td>0.886567</td>\n",
       "      <td>0.8322</td>\n",
       "    </tr>\n",
       "    <tr>\n",
       "      <th>1</th>\n",
       "      <td>1.90529</td>\n",
       "      <td>0.01</td>\n",
       "      <td>1000</td>\n",
       "      <td>0.886567</td>\n",
       "      <td>0.8322</td>\n",
       "    </tr>\n",
       "    <tr>\n",
       "      <th>2</th>\n",
       "      <td>1.93743</td>\n",
       "      <td>0.1</td>\n",
       "      <td>500</td>\n",
       "      <td>0.920011</td>\n",
       "      <td>0.864541</td>\n",
       "    </tr>\n",
       "    <tr>\n",
       "      <th>3</th>\n",
       "      <td>1.82549</td>\n",
       "      <td>0.1</td>\n",
       "      <td>1000</td>\n",
       "      <td>0.920011</td>\n",
       "      <td>0.864541</td>\n",
       "    </tr>\n",
       "    <tr>\n",
       "      <th>4</th>\n",
       "      <td>2.10113</td>\n",
       "      <td>1</td>\n",
       "      <td>500</td>\n",
       "      <td>0.977983</td>\n",
       "      <td>0.910798</td>\n",
       "    </tr>\n",
       "    <tr>\n",
       "      <th>5</th>\n",
       "      <td>2.15047</td>\n",
       "      <td>1</td>\n",
       "      <td>1000</td>\n",
       "      <td>0.977983</td>\n",
       "      <td>0.910798</td>\n",
       "    </tr>\n",
       "    <tr>\n",
       "      <th>6</th>\n",
       "      <td>2.61081</td>\n",
       "      <td>10</td>\n",
       "      <td>500</td>\n",
       "      <td>0.998188</td>\n",
       "      <td>0.928639</td>\n",
       "    </tr>\n",
       "    <tr>\n",
       "      <th>7</th>\n",
       "      <td>2.50091</td>\n",
       "      <td>10</td>\n",
       "      <td>1000</td>\n",
       "      <td>0.998188</td>\n",
       "      <td>0.928639</td>\n",
       "    </tr>\n",
       "  </tbody>\n",
       "</table>\n",
       "</div>"
      ],
      "text/plain": [
       "  mean_fit_time param_logisticregression__C  \\\n",
       "0        1.6563                        0.01   \n",
       "1       1.90529                        0.01   \n",
       "2       1.93743                         0.1   \n",
       "3       1.82549                         0.1   \n",
       "4       2.10113                           1   \n",
       "5       2.15047                           1   \n",
       "6       2.61081                          10   \n",
       "7       2.50091                          10   \n",
       "\n",
       "  param_logisticregression__max_iter mean_train_score mean_test_score  \n",
       "0                                500         0.886567          0.8322  \n",
       "1                               1000         0.886567          0.8322  \n",
       "2                                500         0.920011        0.864541  \n",
       "3                               1000         0.920011        0.864541  \n",
       "4                                500         0.977983        0.910798  \n",
       "5                               1000         0.977983        0.910798  \n",
       "6                                500         0.998188        0.928639  \n",
       "7                               1000         0.998188        0.928639  "
      ]
     },
     "execution_count": 15,
     "metadata": {},
     "output_type": "execute_result"
    }
   ],
   "source": [
    "results = pd.DataFrame(logistic_grid.cv_results_)\n",
    "results[[ 'mean_fit_time',\n",
    "          'param_logisticregression__C',\n",
    "          'param_logisticregression__max_iter',\n",
    "          'mean_train_score', \n",
    "          'mean_test_score']].abs()"
   ]
  },
  {
   "cell_type": "markdown",
   "metadata": {},
   "source": [
    "# Model evaluation and export"
   ]
  },
  {
   "cell_type": "code",
   "execution_count": 16,
   "metadata": {},
   "outputs": [
    {
     "name": "stdout",
     "output_type": "stream",
     "text": [
      "The acc for Random Forest is:  0.87\n"
     ]
    }
   ],
   "source": [
    "# Random forest evaluation\n",
    "\n",
    "y_pred = model_ran.predict(X_test)\n",
    "acc = accuracy_score(y_test, y_pred).round(2)\n",
    "print('The acc for Random Forest is: ' , acc)"
   ]
  },
  {
   "cell_type": "code",
   "execution_count": 17,
   "metadata": {},
   "outputs": [
    {
     "name": "stdout",
     "output_type": "stream",
     "text": [
      "The acc for Logistic Regression is:  0.92\n"
     ]
    }
   ],
   "source": [
    "# Logistic Regression evaluation\n",
    "\n",
    "y_pred = model_log.predict(X_test)\n",
    "acc = accuracy_score(y_test, y_pred).round(2)\n",
    "print('The acc for Logistic Regression is: ' , acc)"
   ]
  },
  {
   "cell_type": "code",
   "execution_count": 18,
   "metadata": {},
   "outputs": [],
   "source": [
    "# export models \n",
    "\n",
    "pickle_maker(model_ran,\"model_ran\")\n",
    "pickle_maker(model_log,\"model_log\")      "
   ]
  }
 ],
 "metadata": {
  "kernelspec": {
   "display_name": "Python 3",
   "language": "python",
   "name": "python3"
  },
  "language_info": {
   "codemirror_mode": {
    "name": "ipython",
    "version": 3
   },
   "file_extension": ".py",
   "mimetype": "text/x-python",
   "name": "python",
   "nbconvert_exporter": "python",
   "pygments_lexer": "ipython3",
   "version": "3.8.5"
  }
 },
 "nbformat": 4,
 "nbformat_minor": 4
}
